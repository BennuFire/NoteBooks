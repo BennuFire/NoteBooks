{
 "cells": [
  {
   "cell_type": "markdown",
   "metadata": {},
   "source": [
    "# Q1 NoteBook"
   ]
  },
  {
   "cell_type": "code",
   "execution_count": 1,
   "metadata": {
    "collapsed": false
   },
   "outputs": [],
   "source": [
    "import numpy as np\n",
    "import matplotlib.pyplot as plt\n",
    "import sklearn.datasets as datasets\n",
    "import sklearn.utils as utils\n",
    "\n",
    "#classification\n",
    "from sklearn.neighbors import KNeighborsClassifier\n",
    "from sklearn import cross_validation\n",
    "from sklearn.cross_validation import KFold\n",
    "\n",
    "%matplotlib inline"
   ]
  },
  {
   "cell_type": "markdown",
   "metadata": {},
   "source": [
    "# NMIST dataset: http://scikit-learn.org/stable/modules/generated/sklearn.datasets.load_digits.html#sklearn.datasets.load_digits"
   ]
  },
  {
   "cell_type": "code",
   "execution_count": 2,
   "metadata": {
    "collapsed": false
   },
   "outputs": [
    {
     "name": "stdout",
     "output_type": "stream",
     "text": [
      "(1797, 64) (1797,) [0 1 2 ..., 8 9 8] [0 1 2 3 4 5 6 7 8 9]\n",
      "[8 6 5 ..., 7 1 2]\n"
     ]
    }
   ],
   "source": [
    "#mnist = fetch_mldata(\"MNIST original\")\n",
    "digits = datasets.load_digits()\n",
    "X_digits, y_digits = digits.data, digits.target\n",
    "\n",
    "print X_digits.shape, y_digits.shape,  y_digits, digits.target_names\n",
    "X_digits, y_digits = utils.shuffle(X_digits, y_digits)\n",
    "print  y_digits"
   ]
  },
  {
   "cell_type": "markdown",
   "metadata": {},
   "source": [
    "For each posible value of k we execure a SVD from 1 to the rank of the data. Each new matrix is used for a KFold cross validation. The scores of each Fold are saved in a scoresKFold vector. Final Score is assumed as themean of those values. For each quantity of eigenvectors on data rank, the value of the KFold is saved in a list and finally saved in a dictionary.\n",
    "\n",
    "We define a error treshold in order to calculate the max number of eigenvalues that can be ignores. This value is decided according to the percentage of the score over the full rank score. A treshold of 90% of the full rank score is took. However, it's interesting to notice that for each k, the number of eigenvalues hat cn be ignored is almost the same for every value of this treshold."
   ]
  },
  {
   "cell_type": "code",
   "execution_count": 5,
   "metadata": {
    "collapsed": false
   },
   "outputs": [
    {
     "name": "stdout",
     "output_type": "stream",
     "text": [
      "59\n",
      "0.909842154132\n",
      "59\n",
      "0.902604456825\n",
      "59\n",
      "0.928206437635\n",
      "59\n",
      "0.919312906221\n"
     ]
    },
    {
     "data": {
      "text/plain": [
       "<matplotlib.text.Text at 0x7b1ae30>"
      ]
     },
     "execution_count": 5,
     "metadata": {},
     "output_type": "execute_result"
    },
    {
     "data": {
      "image/png": "[encoded data removed]",
      "text/plain": [
       "<matplotlib.figure.Figure at 0x7a73090>"
      ]
     },
     "metadata": {},
     "output_type": "display_data"
    }
   ],
   "source": [
    "k_list=[1,2,5,10]\n",
    "ind=0\n",
    "fig, axs = plt.subplots(1,4)\n",
    "scores={}\n",
    "for k in k_list:\n",
    "    U, s, V = np.linalg.svd(X_digits)\n",
    "    errors = np.zeros(64)\n",
    "    scoresSVD=list()\n",
    "    for i in range(64):\n",
    "        s[-1:-(i+1):-1]=np.zeros(i)\n",
    "        S = np.diag(s[0:64])\n",
    "        S = np.vstack([S, np.zeros((1797-64,64)) ])\n",
    "        approx_d = np.dot(U, np.dot(S,V))\n",
    "        \n",
    "        knn_digits = KNeighborsClassifier(n_neighbors=k)\n",
    "        k_fold = cross_validation.KFold(len(approx_d), 5)\n",
    "        scoresKFold = list()\n",
    "        for kk, (train, test) in enumerate(k_fold):\n",
    "            knn_digits.fit(approx_d[train], y_digits[train])\n",
    "            scoresKFold.append(knn_digits.score(approx_d[test], y_digits[test]))\n",
    "           \n",
    "        scoresSVD.append(np.mean(scoresKFold))\n",
    "    \n",
    "    scores[k]=scoresSVD\n",
    "    #print scoresSVD  \n",
    "  \n",
    "    axs[ind].plot(scoresSVD)\n",
    "    ind+=1\n",
    "    \n",
    "    \n",
    "plt.ylabel('Error')\n",
    "plt.xlabel('# of ignored singular values')\n",
    "    "
   ]
  },
  {
   "cell_type": "code",
   "execution_count": 11,
   "metadata": {
    "collapsed": false
   },
   "outputs": [
    {
     "name": "stdout",
     "output_type": "stream",
     "text": [
      "For k=1 and ignoring 52 singular values we get an score of 0.981072423398\n",
      "\n",
      "For k=2 and ignoring 51 singular values we get an score of 0.977169606933\n",
      "\n",
      "For k=10 and ignoring 54 singular values we get an score of 0.973837821108\n",
      "\n",
      "For k=5 and ignoring 55 singular values we get an score of 0.975506035283\n",
      "\n"
     ]
    }
   ],
   "source": [
    "for key, value in scores.iteritems():\n",
    "    init_error=value[0]\n",
    "    tresh=init_error*0.99\n",
    "    index= next(x[0] for x in enumerate(value) if x[1] < tresh )\n",
    "    print \"For k=%s and ignoring %s singular values we get an score of %s\" %(key,index,value[index-1])\n",
    "    print "
   ]
  },
  {
   "cell_type": "markdown",
   "metadata": {},
   "source": [
    "In order to compare the scores, for each value of ignores singular values is calculated the K with better score. A winners vector is creted with each of those K's. The mode of this vector is choose as the best K for this model."
   ]
  },
  {
   "cell_type": "code",
   "execution_count": 6,
   "metadata": {
    "collapsed": false
   },
   "outputs": [
    {
     "name": "stdout",
     "output_type": "stream",
     "text": [
      "[1, 1, 1, 1, 1, 1, 1, 1, 1, 1, 1, 1, 1, 1, 1, 1, 1, 1, 1, 1, 1, 1, 1, 1, 1, 1, 1, 1, 1, 1, 1, 1, 1, 1, 1, 1, 1, 1, 1, 1, 2, 2, 1, 1, 1, 1, 1, 1, 1, 1, 1, 1, 1, 5, 5, 5, 10, 5, 5, 10, 10, 10, 10, 10]\n",
      "Best K is 1\n"
     ]
    }
   ],
   "source": [
    "winners=[]\n",
    "for j in range(len(scoresSVD)):\n",
    "    maxV=0\n",
    "    maxK=0\n",
    "    for key, value in scores.iteritems():\n",
    "        if value[j]>maxV:\n",
    "            maxV=value[j]\n",
    "            maxK=key\n",
    "    winners.append(maxK)\n",
    "print winners\n",
    "counts = np.bincount(winners)\n",
    "print \"Best K is %s\" % (np.argmax(counts))"
   ]
  },
  {
   "cell_type": "code",
   "execution_count": 23,
   "metadata": {
    "collapsed": false
   },
   "outputs": [
    {
     "ename": "IOError",
     "evalue": "[Errno 2] No such file or directory: '../theme/custom.css'",
     "output_type": "error",
     "traceback": [
      "\u001b[1;31m---------------------------------------------------------------------------\u001b[0m",
      "\u001b[1;31mIOError\u001b[0m                                   Traceback (most recent call last)",
      "\u001b[1;32m<ipython-input-23-a3b95627d7cd>\u001b[0m in \u001b[0;36m<module>\u001b[1;34m()\u001b[0m\n\u001b[0;32m      4\u001b[0m     \u001b[0mstyles\u001b[0m \u001b[1;33m=\u001b[0m \u001b[0mopen\u001b[0m\u001b[1;33m(\u001b[0m\u001b[1;34m\"../theme/custom.css\"\u001b[0m\u001b[1;33m,\u001b[0m \u001b[1;34m\"r\"\u001b[0m\u001b[1;33m)\u001b[0m\u001b[1;33m.\u001b[0m\u001b[0mread\u001b[0m\u001b[1;33m(\u001b[0m\u001b[1;33m)\u001b[0m\u001b[1;33m\u001b[0m\u001b[0m\n\u001b[0;32m      5\u001b[0m     \u001b[1;32mreturn\u001b[0m \u001b[0mHTML\u001b[0m\u001b[1;33m(\u001b[0m\u001b[0mstyles\u001b[0m\u001b[1;33m)\u001b[0m\u001b[1;33m\u001b[0m\u001b[0m\n\u001b[1;32m----> 6\u001b[1;33m \u001b[0mcss_styling\u001b[0m\u001b[1;33m(\u001b[0m\u001b[1;33m)\u001b[0m\u001b[1;33m\u001b[0m\u001b[0m\n\u001b[0m",
      "\u001b[1;32m<ipython-input-23-a3b95627d7cd>\u001b[0m in \u001b[0;36mcss_styling\u001b[1;34m()\u001b[0m\n\u001b[0;32m      2\u001b[0m \u001b[1;32mfrom\u001b[0m \u001b[0mIPython\u001b[0m\u001b[1;33m.\u001b[0m\u001b[0mcore\u001b[0m\u001b[1;33m.\u001b[0m\u001b[0mdisplay\u001b[0m \u001b[1;32mimport\u001b[0m \u001b[0mHTML\u001b[0m\u001b[1;33m\u001b[0m\u001b[0m\n\u001b[0;32m      3\u001b[0m \u001b[1;32mdef\u001b[0m \u001b[0mcss_styling\u001b[0m\u001b[1;33m(\u001b[0m\u001b[1;33m)\u001b[0m\u001b[1;33m:\u001b[0m\u001b[1;33m\u001b[0m\u001b[0m\n\u001b[1;32m----> 4\u001b[1;33m     \u001b[0mstyles\u001b[0m \u001b[1;33m=\u001b[0m \u001b[0mopen\u001b[0m\u001b[1;33m(\u001b[0m\u001b[1;34m\"../theme/custom.css\"\u001b[0m\u001b[1;33m,\u001b[0m \u001b[1;34m\"r\"\u001b[0m\u001b[1;33m)\u001b[0m\u001b[1;33m.\u001b[0m\u001b[0mread\u001b[0m\u001b[1;33m(\u001b[0m\u001b[1;33m)\u001b[0m\u001b[1;33m\u001b[0m\u001b[0m\n\u001b[0m\u001b[0;32m      5\u001b[0m     \u001b[1;32mreturn\u001b[0m \u001b[0mHTML\u001b[0m\u001b[1;33m(\u001b[0m\u001b[0mstyles\u001b[0m\u001b[1;33m)\u001b[0m\u001b[1;33m\u001b[0m\u001b[0m\n\u001b[0;32m      6\u001b[0m \u001b[0mcss_styling\u001b[0m\u001b[1;33m(\u001b[0m\u001b[1;33m)\u001b[0m\u001b[1;33m\u001b[0m\u001b[0m\n",
      "\u001b[1;31mIOError\u001b[0m: [Errno 2] No such file or directory: '../theme/custom.css'"
     ]
    }
   ],
   "source": [
    "# Code for setting the style of the notebook\n",
    "from IPython.core.display import HTML\n",
    "def css_styling():\n",
    "    styles = open(\"../theme/custom.css\", \"r\").read()\n",
    "    return HTML(styles)\n",
    "css_styling()"
   ]
  }
 ],
 "metadata": {
  "kernelspec": {
   "display_name": "Python 2",
   "language": "python",
   "name": "python2"
  },
  "language_info": {
   "codemirror_mode": {
    "name": "ipython",
    "version": 2
   },
   "file_extension": ".py",
   "mimetype": "text/x-python",
   "name": "python",
   "nbconvert_exporter": "python",
   "pygments_lexer": "ipython2",
   "version": "2.7.10"
  }
 },
 "nbformat": 4,
 "nbformat_minor": 0
}
